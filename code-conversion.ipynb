{
 "cells": [
  {
   "cell_type": "code",
   "execution_count": 102,
   "id": "7414ef61-695e-4f74-bd8f-feea4f688921",
   "metadata": {},
   "outputs": [],
   "source": [
    "import os\n",
    "import io\n",
    "import sys\n",
    "from dotenv import load_dotenv\n",
    "from openai import OpenAI\n",
    "import google.generativeai\n",
    "import anthropic\n",
    "from IPython.display import Markdown, display, update_display\n",
    "import gradio as gr\n",
    "import subprocess"
   ]
  },
  {
   "cell_type": "code",
   "execution_count": 103,
   "id": "aded42c5-b147-4e20-9265-a1bf1959db23",
   "metadata": {},
   "outputs": [],
   "source": [
    "load_dotenv()\n",
    "openai = OpenAI()\n",
    "claude = anthropic.Anthropic()\n",
    "\n",
    "#OPENAI_MODEL = \"gpt-4o-mini\"\n",
    "CLAUDE_MODEL = \"claude-3-haiku-20240307\"\n",
    "\n",
    "# a bit on costlier side\n",
    "OPENAI_MODEL = \"gpt-4o\"\n",
    "#CLAUDE_MODEL = \"claude-3-5-sonnet-20240620\""
   ]
  },
  {
   "cell_type": "code",
   "execution_count": 104,
   "id": "ce9ae426-6ef5-43ec-a81d-7343f58af512",
   "metadata": {},
   "outputs": [],
   "source": [
    "def get_user_prompt(input_code, target_language):\n",
    "    user_prompt = f\"Rewrite given code to performance efficient code in {target_language} language using fastest possible implementation.\"\n",
    "    user_prompt += \"It should produce same output as given code.\"\n",
    "    user_prompt += \"Pay attention to data types. The code should be ready to execute with all necessary imports.\"\n",
    "    user_prompt += input_code\n",
    "    return user_prompt\n",
    "    "
   ]
  },
  {
   "cell_type": "code",
   "execution_count": 105,
   "id": "e232cacd-0250-4651-b65a-590e10cbf938",
   "metadata": {},
   "outputs": [],
   "source": [
    "system_message = \"You are an assistant that reimplements given code in high performance expected target language for an M1 Mac. You are smart and technical coder who knows all well known programming language enough to identify launguage of given source code\"\n",
    "system_message += \"Respond only with code; use comments sparingly and do not provide any explanation other than occasional comments. \"\n",
    "system_message += \"The converted code needs to produce an identical output in the fastest possible time.\""
   ]
  },
  {
   "cell_type": "code",
   "execution_count": 106,
   "id": "0ed757a9-2fc7-4fcd-ba00-3310e623d958",
   "metadata": {},
   "outputs": [],
   "source": [
    "def get_messages(input_code, target_language):\n",
    "    return [{\"role\": \"system\", \"content\": system_message},\n",
    "           {\"role\": \"user\", \"content\": get_user_prompt(input_code, target_language)}]"
   ]
  },
  {
   "cell_type": "code",
   "execution_count": 107,
   "id": "ac4a3f5a-25da-4a84-b50c-1b576cae5288",
   "metadata": {},
   "outputs": [],
   "source": [
    "def write_output_to_file(content, target_language):\n",
    "    if target_language == 'c++':\n",
    "        code = content.replace(\"```cpp\",\"\").replace(\"```\",\"\")\n",
    "        with open(\"c_optimized.cpp\", \"w\") as f:\n",
    "            f.write(code)\n",
    "    elif target_language == 'java':\n",
    "         code = content.replace(\"```java\",\"\").replace(\"```\",\"\")\n",
    "         with open(\"java_optimized.java\", \"w\") as f:\n",
    "            f.write(code)\n",
    "    elif target_language == 'python':\n",
    "         code = content.replace(\"```python\",\"\").replace(\"```\",\"\")\n",
    "         with open(\"python_optimized.py\", \"w\") as f:\n",
    "            f.write(code)\n",
    "    else:\n",
    "        print(\"Supported launguages for conversion are Java, C++ and Python\")"
   ]
  },
  {
   "cell_type": "code",
   "execution_count": 108,
   "id": "8f6d3c37-b0ff-46fc-b77e-76642aaebd3f",
   "metadata": {},
   "outputs": [],
   "source": [
    "def gpt_code_generator(python_code, target_language): \n",
    "    msgs=get_messages(python_code, target_language)\n",
    "    print(msgs)\n",
    "    stream = openai.chat.completions.create(model=OPENAI_MODEL, messages=msgs, stream=True)\n",
    "    reply = \"\"\n",
    "    for chunk in stream:\n",
    "        fragment = chunk.choices[0].delta.content or \"\"\n",
    "        reply += fragment\n",
    "    write_output_to_file(reply, target_language)"
   ]
  },
  {
   "cell_type": "code",
   "execution_count": 109,
   "id": "a9abd6dc-e207-4e2e-bc2b-8790832ecd11",
   "metadata": {},
   "outputs": [],
   "source": [
    "# Need to add anthropic credits to hit claude API\n",
    "\n",
    "def claude_code_generator(input_code, source_language, target_language):\n",
    "    result = claude.messages.stream(\n",
    "        model=CLAUDE_MODEL,\n",
    "        max_tokens=2000,\n",
    "        system=system_message,\n",
    "        messages=[{\"role\": \"user\", \"content\": get_user_prompt(input_code, source_language, target_language)}])\n",
    "    reply = \"\"\n",
    "    with result as stream:\n",
    "        for text in stream.text_stream:\n",
    "            reply += text\n",
    "    write_output_to_file(reply, target_language)"
   ]
  },
  {
   "cell_type": "code",
   "execution_count": 110,
   "id": "980d90b2-25ef-4b35-8edc-591e73f73740",
   "metadata": {},
   "outputs": [],
   "source": [
    "fibo = \"\"\"\n",
    "import time\n",
    "def fibonacci_recursive(n):\n",
    "    if n <= 1:\n",
    "        return n\n",
    "    return fibonacci_recursive(n-1) + fibonacci_recursive(n-2)\n",
    "\n",
    "def print_fibonacci_recursive(count):\n",
    "    print(\"Fibonacci Series (Recursive):\")\n",
    "    for i in range(count):\n",
    "        print(fibonacci_recursive(i), end=\" \")\n",
    "    print() \n",
    "\n",
    "start_time = time.time()\n",
    "fibonacci_recursive(10)\n",
    "end_time = time.time()\n",
    "print(f\"Execution Time: {(end_time - start_time):.6f} seconds\")\n",
    "\"\"\""
   ]
  },
  {
   "cell_type": "code",
   "execution_count": 111,
   "id": "03232688-0886-4583-9650-e5d8e40ef136",
   "metadata": {},
   "outputs": [],
   "source": [
    "fibo_java = \"\"\"\n",
    "public class Fibonacci {\n",
    "\n",
    "    // Use memoization to improve the performance of the Fibonacci calculation\n",
    "    private static long[] memo;\n",
    "\n",
    "    public static long fibonacciRecursive(int n) {\n",
    "        if (n <= 1) {\n",
    "            return n;\n",
    "        }\n",
    "        if (memo[n] != 0) {\n",
    "            return memo[n];\n",
    "        }\n",
    "        memo[n] = fibonacciRecursive(n - 1) + fibonacciRecursive(n - 2);\n",
    "        return memo[n];\n",
    "    }\n",
    "\n",
    "    public static void printFibonacciRecursive(int count) {\n",
    "        System.out.println(\"Fibonacci Series (Recursive):\");\n",
    "        for (int i = 0; i < count; i++) {\n",
    "            System.out.print(fibonacciRecursive(i) + \" \");\n",
    "        }\n",
    "        System.out.println();\n",
    "    }\n",
    "\n",
    "    public static void main(String[] args) {\n",
    "        int count = 10;\n",
    "        memo = new long[count + 1]; // Initialize memoization array\n",
    "        long startTime = System.nanoTime();\n",
    "        fibonacciRecursive(count);\n",
    "        long endTime = System.nanoTime();\n",
    "        System.out.format(\"Execution Time: %.6f seconds%n\", (endTime - startTime) / 1e9);\n",
    "    }\n",
    "}\n",
    "\"\"\""
   ]
  },
  {
   "cell_type": "code",
   "execution_count": 40,
   "id": "ba4d9dae-eab2-4721-89ab-b67b74dd2af9",
   "metadata": {},
   "outputs": [
    {
     "name": "stdout",
     "output_type": "stream",
     "text": [
      "Execution Time: 0.000019 seconds\n"
     ]
    }
   ],
   "source": [
    "exec(fibo)"
   ]
  },
  {
   "cell_type": "code",
   "execution_count": 9,
   "id": "658d2894-d66c-4f86-a3fc-c5317d3e1bb8",
   "metadata": {},
   "outputs": [],
   "source": [
    "test_code = \"\"\"\n",
    "name = \"Krupa\"\n",
    "print(f\"Hello: {name}\")\n",
    "\"\"\""
   ]
  },
  {
   "cell_type": "code",
   "execution_count": 36,
   "id": "3611ed65-abcb-4f2b-b05e-d8fb81ef1883",
   "metadata": {},
   "outputs": [
    {
     "name": "stdout",
     "output_type": "stream",
     "text": [
      "Hello: Krupa\n"
     ]
    }
   ],
   "source": [
    "exec(test_code)"
   ]
  },
  {
   "cell_type": "code",
   "execution_count": 112,
   "id": "f2342cc1-4f94-46b2-bdc2-1406df15c9c3",
   "metadata": {},
   "outputs": [
    {
     "name": "stdout",
     "output_type": "stream",
     "text": [
      "[{'role': 'system', 'content': 'You are an assistant that reimplements given code in high performance expected target language for an M1 Mac. You are smart and technical coder who knows all well known programming language enough to identify launguage of given source codeRespond only with code; use comments sparingly and do not provide any explanation other than occasional comments. The converted code needs to produce an identical output in the fastest possible time.'}, {'role': 'user', 'content': 'Rewrite given code to performance efficient code in java language using fastest possible implementation.It should produce same output as given code.Pay attention to data types. The code should be ready to execute with all necessary imports.\\nimport time\\ndef fibonacci_recursive(n):\\n    if n <= 1:\\n        return n\\n    return fibonacci_recursive(n-1) + fibonacci_recursive(n-2)\\n\\ndef print_fibonacci_recursive(count):\\n    print(\"Fibonacci Series (Recursive):\")\\n    for i in range(count):\\n        print(fibonacci_recursive(i), end=\" \")\\n    print() \\n\\nstart_time = time.time()\\nfibonacci_recursive(10)\\nend_time = time.time()\\nprint(f\"Execution Time: {(end_time - start_time):.6f} seconds\")\\n'}]\n"
     ]
    }
   ],
   "source": [
    "gpt_code_generator(fibo, 'java')"
   ]
  },
  {
   "cell_type": "code",
   "execution_count": 114,
   "id": "0349def9-1c93-49cf-986f-72c184848cde",
   "metadata": {},
   "outputs": [
    {
     "name": "stdout",
     "output_type": "stream",
     "text": [
      "[{'role': 'system', 'content': 'You are an assistant that reimplements given code in high performance expected target language for an M1 Mac. You are smart and technical coder who knows all well known programming language enough to identify launguage of given source codeRespond only with code; use comments sparingly and do not provide any explanation other than occasional comments. The converted code needs to produce an identical output in the fastest possible time.'}, {'role': 'user', 'content': 'Rewrite given code to performance efficient code in python language using fastest possible implementation.It should produce same output as given code.Pay attention to data types. The code should be ready to execute with all necessary imports.\\npublic class Fibonacci {\\n\\n    // Use memoization to improve the performance of the Fibonacci calculation\\n    private static long[] memo;\\n\\n    public static long fibonacciRecursive(int n) {\\n        if (n <= 1) {\\n            return n;\\n        }\\n        if (memo[n] != 0) {\\n            return memo[n];\\n        }\\n        memo[n] = fibonacciRecursive(n - 1) + fibonacciRecursive(n - 2);\\n        return memo[n];\\n    }\\n\\n    public static void printFibonacciRecursive(int count) {\\n        System.out.println(\"Fibonacci Series (Recursive):\");\\n        for (int i = 0; i < count; i++) {\\n            System.out.print(fibonacciRecursive(i) + \" \");\\n        }\\n        System.out.println();\\n    }\\n\\n    public static void main(String[] args) {\\n        int count = 10;\\n        memo = new long[count + 1]; // Initialize memoization array\\n        long startTime = System.nanoTime();\\n        fibonacciRecursive(count);\\n        long endTime = System.nanoTime();\\n        System.out.format(\"Execution Time: %.6f seconds%n\", (endTime - startTime) / 1e9);\\n    }\\n}\\n'}]\n"
     ]
    }
   ],
   "source": [
    "gpt_code_generator(fibo_java, 'python')"
   ]
  },
  {
   "cell_type": "code",
   "execution_count": null,
   "id": "d5cccc70-8b89-4be7-b579-c0a2130a461f",
   "metadata": {},
   "outputs": [],
   "source": []
  }
 ],
 "metadata": {
  "kernelspec": {
   "display_name": "Python 3 (ipykernel)",
   "language": "python",
   "name": "python3"
  },
  "language_info": {
   "codemirror_mode": {
    "name": "ipython",
    "version": 3
   },
   "file_extension": ".py",
   "mimetype": "text/x-python",
   "name": "python",
   "nbconvert_exporter": "python",
   "pygments_lexer": "ipython3",
   "version": "3.10.7"
  }
 },
 "nbformat": 4,
 "nbformat_minor": 5
}
