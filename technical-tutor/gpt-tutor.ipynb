{
 "cells": [
  {
   "cell_type": "code",
   "execution_count": 3,
   "id": "7a052ea1-da99-4720-9c89-ec9093cdb670",
   "metadata": {
    "editable": true,
    "slideshow": {
     "slide_type": ""
    },
    "tags": []
   },
   "outputs": [],
   "source": [
    "import os\n",
    "from openai import OpenAI\n",
    "from dotenv import load_dotenv\n",
    "from IPython.display import Markdown, display, update_display"
   ]
  },
  {
   "cell_type": "code",
   "execution_count": 16,
   "id": "249f805b-03d7-4dfa-942f-82ff12155447",
   "metadata": {},
   "outputs": [],
   "source": [
    "MODEL = 'gpt-4o-mini'\n",
    "\n",
    "load_dotenv()\n",
    "\n",
    "openapi_key = os.getenv(\"OPENAI_API_KEY\")\n",
    "\n",
    "openai = OpenAI()"
   ]
  },
  {
   "cell_type": "code",
   "execution_count": 30,
   "id": "918b423a-361d-4809-8e90-3e62f4c12240",
   "metadata": {},
   "outputs": [
    {
     "name": "stdin",
     "output_type": "stream",
     "text": [
      "Please enter your question: how to execute all cells of jupyter lab automatically in sequence\n"
     ]
    }
   ],
   "source": [
    "question = \"\"\"\n",
    "Please explain what this code does and why:\n",
    "yield from {book.get(\"author\") for book in books if book.get(\"author\")}\n",
    "\"\"\"\n",
    "\n",
    "my_question = input(\"Please enter your question:\")"
   ]
  },
  {
   "cell_type": "code",
   "execution_count": 31,
   "id": "8bb0eca7-b030-4dea-a0d3-725881fb6bc3",
   "metadata": {},
   "outputs": [],
   "source": [
    "system_prompt = \"You are an assistant who is expert in technology and coding, specially python and llms. You need to behave as a technical tutor and answer technical questions in Markdown\"\n",
    "\n",
    "def get_user_prompt(ques):\n",
    "    prompt = ques\n",
    "    return prompt\n",
    "\n",
    "messages = [{\"role\": \"system\", \"content\": system_prompt}, {\"role\": \"user\", \"content\": get_user_prompt(my_question)}]"
   ]
  },
  {
   "cell_type": "code",
   "execution_count": 32,
   "id": "fa3fbcfd-c821-4804-862f-6103dcbea413",
   "metadata": {
    "scrolled": true
   },
   "outputs": [
    {
     "data": {
      "text/markdown": [
       "To execute all cells in a Jupyter Lab notebook automatically in sequence, you can use the built-in features of Jupyter Lab. Here's a step-by-step guide to do this:\n",
       "\n",
       "### Method 1: Using the Menu\n",
       "\n",
       "1. **Open Jupyter Lab**: Start your Jupyter Lab environment.\n",
       "\n",
       "2. **Select Your Notebook**: Open the notebook file (`.ipynb`) that you want to execute.\n",
       "\n",
       "3. **Run All Cells**:\n",
       "    - Go to the menu at the top of the Jupyter Lab interface.\n",
       "    - Click on **Run**.\n",
       "    - Select **Run All Cells**. \n",
       "\n",
       "   This will execute all code cells in the order they appear in the notebook.\n",
       "\n",
       "### Method 2: Keyboard Shortcut\n",
       "\n",
       "1. **Open Jupyter Lab** and your desired notebook.\n",
       "\n",
       "2. **Execute All Cells**:\n",
       "   - You can use the keyboard shortcut `Shift + Enter` to run cells one by one manually.\n",
       "   - To run all cells at once, you can usually use `Ctrl + Shift + Enter`, depending on your configuration.\n",
       "\n",
       "### Method 3: Using Jupyter Notebook Commands\n",
       "\n",
       "You can also utilize the following commands in a cell to programmatically execute all the other cells:\n",
       "\n",
       "python\n",
       "# Run all cells programmatically\n",
       "from IPython.display import display, Javascript\n",
       "\n",
       "def run_all_cells():\n",
       "    display(Javascript('IPython.notebook.execute_all_cells()'))\n",
       "\n",
       "run_all_cells()\n",
       "\n",
       "\n",
       "### Additional Notes\n",
       "\n",
       "- **Cell Output**: When you execute all cells, check that you do not have any cells that unintentionally alter the state of the notebook or raise exceptions.\n",
       "- **Kernel**: Make sure your notebook's kernel has been properly initialized with the necessary libraries before running all cells.\n",
       "- **Dependencies**: Ensure the order of code execution respects any dependencies between cells (e.g., if cell A must run before cell B).\n",
       "\n",
       "By following these methods, you should be able to execute all cells in your Jupyter Lab notebook easily. Enjoy coding!"
      ],
      "text/plain": [
       "<IPython.core.display.Markdown object>"
      ]
     },
     "metadata": {},
     "output_type": "display_data"
    }
   ],
   "source": [
    "stream = openai.chat.completions.create(model = MODEL, messages = messages, stream = True)\n",
    "#display(Markdown(response.choices[0].message.content))\n",
    "\n",
    "response = \"\"\n",
    "display_handle = display(Markdown(\"\"), display_id=True)\n",
    "for chunk in stream:\n",
    "    response += chunk.choices[0].delta.content or ''\n",
    "    response = response.replace(\"```\",\"\").replace(\"markdown\", \"\")\n",
    "    update_display(Markdown(response), display_id=display_handle.display_id)"
   ]
  },
  {
   "cell_type": "code",
   "execution_count": null,
   "id": "719a7c52-b77d-424a-a0a6-aeda20b14da0",
   "metadata": {},
   "outputs": [],
   "source": []
  }
 ],
 "metadata": {
  "kernelspec": {
   "display_name": "Python 3 (ipykernel)",
   "language": "python",
   "name": "python3"
  },
  "language_info": {
   "codemirror_mode": {
    "name": "ipython",
    "version": 3
   },
   "file_extension": ".py",
   "mimetype": "text/x-python",
   "name": "python",
   "nbconvert_exporter": "python",
   "pygments_lexer": "ipython3",
   "version": "3.10.7"
  }
 },
 "nbformat": 4,
 "nbformat_minor": 5
}
