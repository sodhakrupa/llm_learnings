{
 "cells": [
  {
   "cell_type": "code",
   "execution_count": 3,
   "id": "7a052ea1-da99-4720-9c89-ec9093cdb670",
   "metadata": {
    "editable": true,
    "slideshow": {
     "slide_type": ""
    },
    "tags": []
   },
   "outputs": [],
   "source": [
    "import os\n",
    "from openai import OpenAI\n",
    "from dotenv import load_dotenv\n",
    "from IPython.display import Markdown, display, update_display"
   ]
  },
  {
   "cell_type": "code",
   "execution_count": 16,
   "id": "249f805b-03d7-4dfa-942f-82ff12155447",
   "metadata": {},
   "outputs": [],
   "source": [
    "MODEL = 'gpt-4o-mini'\n",
    "\n",
    "load_dotenv()\n",
    "\n",
    "openapi_key = os.getenv(\"OPENAI_API_KEY\")\n",
    "\n",
    "openai = OpenAI()"
   ]
  },
  {
   "cell_type": "code",
   "execution_count": 27,
   "id": "918b423a-361d-4809-8e90-3e62f4c12240",
   "metadata": {},
   "outputs": [
    {
     "name": "stdin",
     "output_type": "stream",
     "text": [
      "Please enter your question: Please explain what this code does and why: yield from {book.get(\"author\") for book in books if book.get(\"author\")}\n"
     ]
    }
   ],
   "source": [
    "question = \"\"\"\n",
    "Please explain what this code does and why:\n",
    "yield from {book.get(\"author\") for book in books if book.get(\"author\")}\n",
    "\"\"\"\n",
    "\n",
    "my_question = input(\"Please enter your question:\")"
   ]
  },
  {
   "cell_type": "code",
   "execution_count": 28,
   "id": "8bb0eca7-b030-4dea-a0d3-725881fb6bc3",
   "metadata": {},
   "outputs": [],
   "source": [
    "system_prompt = \"You are an assistant who is expert in technology and coding, specially python and llms. You need to behave as a technical tutor and answer technical questions in Markdown\"\n",
    "\n",
    "def get_user_prompt(ques):\n",
    "    prompt = ques\n",
    "    return prompt\n",
    "\n",
    "messages = [{\"role\": \"system\", \"content\": system_prompt}, {\"role\": \"user\", \"content\": get_user_prompt(my_question)}]"
   ]
  },
  {
   "cell_type": "code",
   "execution_count": 29,
   "id": "fa3fbcfd-c821-4804-862f-6103dcbea413",
   "metadata": {},
   "outputs": [
    {
     "data": {
      "text/markdown": [
       "Certainly! Let's break down the code snippet and explain its components step by step.\n",
       "\n",
       "### Code Explanation\n",
       "\n",
       "```python\n",
       "yield from {book.get(\"author\") for book in books if book.get(\"author\")}\n",
       "```\n",
       "\n",
       "#### Components Breakdown\n",
       "\n",
       "1. **Set Comprehension**:\n",
       "   - `{book.get(\"author\") for book in books if book.get(\"author\")}`\n",
       "   - This portion creates a **set** of authors from a collection of `books`.\n",
       "   - **`book.get(\"author\")`**: This retrieves the value associated with the key `\"author\"` for each `book` dictionary in the `books` iterable. It returns `None` if `\"author\"` is not found.\n",
       "   - **`for book in books`**: Iterates through each `book` object in the `books` collection.\n",
       "   - **`if book.get(\"author\")`**: This condition ensures that only books with a non-empty and valid `\"author\"` entry are processed, effectively filtering out any books where the author is `None` or an empty string.\n",
       "\n",
       "2. **Yield from**:\n",
       "   - **`yield from`**: This is a special keyword in Python used in generators. It allows the generator to yield all values from another iterable, in this case, from the set created by the comprehension.\n",
       "   - This means that every author in the resulting set will be yielded to the caller of the generator.\n",
       "\n",
       "#### Purpose of the Code\n",
       "\n",
       "- The code is part of a generator function that retrieves unique authors from a collection of books. By using a set comprehension, it ensures that each author is listed only once (unique values).\n",
       "  \n",
       "- The filtered approach (using `if book.get(\"author\")`) helps avoid issues with `None` or empty author values, making sure only valid authors get yielded.\n",
       "\n",
       "### Example in Context\n",
       "\n",
       "Here’s how it could fit into a larger piece of code:\n",
       "\n",
       "```python\n",
       "def unique_authors(books):\n",
       "    yield from {book.get(\"author\") for book in books if book.get(\"author\")}\n",
       "\n",
       "# Example usage\n",
       "books = [\n",
       "    {\"title\": \"Book 1\", \"author\": \"Author A\"},\n",
       "    {\"title\": \"Book 2\", \"author\": None},\n",
       "    {\"title\": \"Book 3\", \"author\": \"Author B\"},\n",
       "    {\"title\": \"Book 4\", \"author\": \"Author A\"},\n",
       "]\n",
       "\n",
       "for author in unique_authors(books):\n",
       "    print(author)\n",
       "```\n",
       "\n",
       "#### Output:\n",
       "```\n",
       "Author A\n",
       "Author B\n",
       "```\n",
       "\n",
       "### Summary\n",
       "\n",
       "- The code leverages a generator to produce unique authors from a list of book dictionaries, filtering out any invalid entries.\n",
       "- It allows the caller to iterate through the unique authors efficiently, only generating the required values when requested."
      ],
      "text/plain": [
       "<IPython.core.display.Markdown object>"
      ]
     },
     "metadata": {},
     "output_type": "display_data"
    }
   ],
   "source": [
    "stream = openai.chat.completions.create(model = MODEL, messages = messages, stream = True)\n",
    "#display(Markdown(response.choices[0].message.content))\n",
    "\n",
    "response = \"\"\n",
    "display_handle = display(Markdown(\"\"), display_id=True)\n",
    "for chunk in stream:\n",
    "    response += chunk.choices[0].delta.content or ''\n",
    "    #response = response.replace(\"```\",\"\").replace(\"markdown\", \"\")\n",
    "    update_display(Markdown(response), display_id=display_handle.display_id)"
   ]
  },
  {
   "cell_type": "code",
   "execution_count": null,
   "id": "719a7c52-b77d-424a-a0a6-aeda20b14da0",
   "metadata": {},
   "outputs": [],
   "source": []
  }
 ],
 "metadata": {
  "kernelspec": {
   "display_name": "Python 3 (ipykernel)",
   "language": "python",
   "name": "python3"
  },
  "language_info": {
   "codemirror_mode": {
    "name": "ipython",
    "version": 3
   },
   "file_extension": ".py",
   "mimetype": "text/x-python",
   "name": "python",
   "nbconvert_exporter": "python",
   "pygments_lexer": "ipython3",
   "version": "3.10.7"
  }
 },
 "nbformat": 4,
 "nbformat_minor": 5
}
