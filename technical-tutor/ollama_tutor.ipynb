{
 "cells": [
  {
   "cell_type": "code",
   "execution_count": 6,
   "id": "ee58fa5d-315f-4da2-a964-c0e88f0f8111",
   "metadata": {},
   "outputs": [],
   "source": [
    "import ollama\n",
    "\n",
    "MODEL = \"llama3.2:1b\""
   ]
  },
  {
   "cell_type": "code",
   "execution_count": 7,
   "id": "ab1f8020-b0bb-4fe1-b6d3-9ef526da8062",
   "metadata": {},
   "outputs": [],
   "source": [
    "\n",
    "def get_user_prompt(ques):\n",
    "    prompt = ques\n",
    "    return prompt\n",
    "\n",
    "#question = \"\"\"\n",
    "#Please explain what this code does and why:\n",
    "#yield from {book.get(\"author\") for book in books if book.get(\"author\")}\n",
    "#\"\"\"\n",
    "\n",
    "\n",
    "\n"
   ]
  },
  {
   "cell_type": "code",
   "execution_count": 8,
   "id": "bbd7e356-0d61-4ce1-8ecd-ef4546592990",
   "metadata": {},
   "outputs": [],
   "source": [
    "def ask_ollama_tutor(question):\n",
    "    system_prompt = \"You are an assistant who is expert in technology and coding, specially python and llms. You need to behave as a technical tutor and answer technical questions in Markdown\"\n",
    "    messages = [{\"role\": \"system\", \"content\": system_prompt}, {\"role\": \"user\", \"content\": get_user_prompt(question)}]\n",
    "    response = ollama.chat(model = MODEL, messages = messages, stream=True)\n",
    "    for chunk in response:\n",
    "        print(chunk[\"message\"][\"content\"], end=\"\", flush=True)"
   ]
  },
  {
   "cell_type": "code",
   "execution_count": 9,
   "id": "f8e2a7d1-cb42-4b78-8702-50c31f505d89",
   "metadata": {},
   "outputs": [
    {
     "name": "stdin",
     "output_type": "stream",
     "text": [
      "Please enter your question: what is the latest version of java?\n"
     ]
    },
    {
     "name": "stdout",
     "output_type": "stream",
     "text": [
      "### Java Latest Version\n",
      "\n",
      "As of my knowledge cutoff in December 2023, the latest official release of Java is **Java 17**.\n",
      "\n",
      "However, it's worth noting that Oracle has announced plans to support Java 16 as the next major release, with a planned release date of **May 2024**. This means that Java 16 will likely be the last major version released before Java 17.\n",
      "\n",
      "Here are some key features and updates in Java 17:\n",
      "\n",
      "* **Improved performance**: Java 17 includes several performance optimizations, such as improved garbage collection, better caching, and enhanced support for parallelism.\n",
      "* **New language features**: Java 17 introduces several new language features, including:\n",
      " + **Switch expressions**: A concise way to switch on multiple conditions using a single expression.\n",
      " + **Pattern matching**: Simplifies string pattern matching using regular expressions.\n",
      " + **Functional interfaces**: Allows for more expressive and concise code by defining functional interfaces as lambda expressions or method references.\n",
      "* **Improved security**: Java 17 includes several security-related updates, including:\n",
      " + **Input validation improvements**: Enhances input validation to prevent common web application vulnerabilities.\n",
      " + **Sandboxed environments**: Supports the creation of sandboxed environments for running applications with elevated privileges.\n",
      "\n",
      "### Example Use Case\n",
      "\n",
      "To give you a better idea of how these new features work in practice, here's an example use case:\n",
      "\n",
      "```java\n",
      "// Java 17 code\n",
      "public class MyClass {\n",
      "    public static void main(String[] args) {\n",
      "        String input = \"Hello World!\";\n",
      "\n",
      "        // Switch expression to match the first non-null character\n",
      "        int index = Arrays.stream(input.split(\"\\\\s+\")).mapToInt(String::length).findFirst().orElse(-1);\n",
      "        System.out.println(\"First non-null character at position \" + index);\n",
      "\n",
      "        // Pattern matching for strings\n",
      "        String pattern = \"^Hello$\";\n",
      "        if (input.startsWith(pattern)) {\n",
      "            System.out.println(\"String matches the pattern\");\n",
      "        } else {\n",
      "            System.out.println(\"String does not match the pattern\");\n",
      "        }\n",
      "    }\n",
      "}\n",
      "```\n",
      "\n",
      "In this example, we use a switch expression to find the first non-null character in the input string and print its position. We also demonstrate pattern matching using regular expressions.\n",
      "\n",
      "Note that this is just a brief overview of the latest features in Java 17. For more information, I recommend checking out the official Oracle documentation or reviewing the language documentation for detailed information on each new feature."
     ]
    }
   ],
   "source": [
    "question = input(\"Please enter your question:\")\n",
    "ask_ollama_tutor(question)\n"
   ]
  },
  {
   "cell_type": "code",
   "execution_count": null,
   "id": "86cb917a-4709-48cc-8d99-4a89ca246630",
   "metadata": {},
   "outputs": [],
   "source": []
  }
 ],
 "metadata": {
  "kernelspec": {
   "display_name": "Python 3 (ipykernel)",
   "language": "python",
   "name": "python3"
  },
  "language_info": {
   "codemirror_mode": {
    "name": "ipython",
    "version": 3
   },
   "file_extension": ".py",
   "mimetype": "text/x-python",
   "name": "python",
   "nbconvert_exporter": "python",
   "pygments_lexer": "ipython3",
   "version": "3.10.7"
  }
 },
 "nbformat": 4,
 "nbformat_minor": 5
}
