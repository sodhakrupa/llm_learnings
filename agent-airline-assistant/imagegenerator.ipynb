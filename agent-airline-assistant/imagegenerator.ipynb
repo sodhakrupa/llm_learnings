{
 "cells": [
  {
   "cell_type": "code",
   "execution_count": 4,
   "id": "e3fc5b16-011e-4e89-9ad5-32242cc69596",
   "metadata": {},
   "outputs": [],
   "source": [
    "import os\n",
    "from dotenv import load_dotenv\n",
    "from openai import OpenAI\n",
    "import base64\n",
    "from io import BytesIO\n",
    "from PIL import Image\n",
    "\n"
   ]
  },
  {
   "cell_type": "code",
   "execution_count": 5,
   "id": "b9926c80-7e01-46ea-88d1-8d7eb30467ef",
   "metadata": {},
   "outputs": [
    {
     "data": {
      "text/plain": [
       "True"
      ]
     },
     "execution_count": 5,
     "metadata": {},
     "output_type": "execute_result"
    }
   ],
   "source": [
    "# Initialization\n",
    "\n",
    "load_dotenv()\n"
   ]
  },
  {
   "cell_type": "code",
   "execution_count": 6,
   "id": "35cf60a0-2755-4bf1-9e40-ba69376efd7f",
   "metadata": {},
   "outputs": [],
   "source": [
    "class ImageGenerator:\n",
    "\n",
    "    def __init__(self):  \n",
    "       openai_api_key = os.getenv('OPENAI_API_KEY')\n",
    "       if openai_api_key:\n",
    "          print(f\"OpenAI API Key exists\")\n",
    "       else:\n",
    "          print(\"OpenAI API Key not set\")\n",
    "       self.openai = OpenAI(api_key=openai_api_key)    \n",
    "\n",
    "\n",
    "    def artist(self,prompt_text):\n",
    "        image = self.openai.images.generate(\n",
    "            model = \"dall-e-3\",\n",
    "            prompt = prompt_text,\n",
    "            size=\"1024x1024\",\n",
    "            n=1,\n",
    "            response_format=\"b64_json\"\n",
    "        )\n",
    "        image_base64 = image.data[0].b64_json\n",
    "        image_data = base64.b64decode(image_base64)\n",
    "        return Image.open(BytesIO(image_data))"
   ]
  },
  {
   "cell_type": "code",
   "execution_count": null,
   "id": "b0247c08-dadb-49cf-9267-95ae9495c8e5",
   "metadata": {},
   "outputs": [
    {
     "name": "stdout",
     "output_type": "stream",
     "text": [
      "OpenAI API Key exists\n"
     ]
    }
   ],
   "source": [
    "img_generator = ImageGenerator()\n",
    "city = \"London\"\n",
    "display(img_generator.artist(f\"An image representing vacation in city {city} having its famous tourist spots\"))"
   ]
  },
  {
   "cell_type": "code",
   "execution_count": null,
   "id": "c6d75dd5-d2e8-46f1-8b4c-a24207253cec",
   "metadata": {},
   "outputs": [],
   "source": []
  }
 ],
 "metadata": {
  "kernelspec": {
   "display_name": "Python 3 (ipykernel)",
   "language": "python",
   "name": "python3"
  },
  "language_info": {
   "codemirror_mode": {
    "name": "ipython",
    "version": 3
   },
   "file_extension": ".py",
   "mimetype": "text/x-python",
   "name": "python",
   "nbconvert_exporter": "python",
   "pygments_lexer": "ipython3",
   "version": "3.10.7"
  }
 },
 "nbformat": 4,
 "nbformat_minor": 5
}
