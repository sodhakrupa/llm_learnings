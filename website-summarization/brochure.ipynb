{
 "cells": [
  {
   "cell_type": "code",
   "execution_count": 88,
   "id": "4a65075a-9531-4035-9a24-2973577071fe",
   "metadata": {},
   "outputs": [],
   "source": [
    "import nbimporter\n",
    "import requests\n",
    "import os\n",
    "import json\n",
    "from bs4 import BeautifulSoup\n",
    "from openai import OpenAI\n",
    "from dotenv import load_dotenv\n",
    "from common import Website\n",
    "from IPython.display import Markdown, display, update_display"
   ]
  },
  {
   "cell_type": "code",
   "execution_count": 83,
   "id": "4dae37ba-f11a-4f8c-b170-77eab43cf5df",
   "metadata": {},
   "outputs": [],
   "source": [
    "load_dotenv()\n",
    "\n",
    "openapi_key = os.getenv(\"OPENAI_API_KEY\")\n",
    "\n",
    "MODEL=\"gpt-4o-mini\"\n",
    "\n",
    "openai = OpenAI()"
   ]
  },
  {
   "cell_type": "code",
   "execution_count": 68,
   "id": "306f5bae-6341-44c6-af54-7f002a383759",
   "metadata": {
    "editable": true,
    "slideshow": {
     "slide_type": ""
    },
    "tags": []
   },
   "outputs": [
    {
     "name": "stdout",
     "output_type": "stream",
     "text": [
      "You are an assistant that can choose relevant links for a brochure of a company from the given list of links of a website.\n",
      "Give response in json format as below: \n",
      "\n",
      "{\n",
      "    \"links\": [\n",
      "        {\"type\": \"about page\", \"url\": \"https://full.url/goes/here/about\"},\n",
      "        {\"type\": \"careers page\": \"url\": \"https://another.full.url/careers\"}\n",
      "    ]\n",
      "}\n",
      "\n"
     ]
    }
   ],
   "source": [
    "system_prompt = \"You are an assistant that can choose relevant links for a brochure of a company from the given list of links of a website.\\n\"\n",
    "system_prompt += \"Give response in json format as below: \\n\" \n",
    "system_prompt +=              \"\"\"\n",
    "{\n",
    "    \"links\": [\n",
    "        {\"type\": \"about page\", \"url\": \"https://full.url/goes/here/about\"},\n",
    "        {\"type\": \"careers page\": \"url\": \"https://another.full.url/careers\"}\n",
    "    ]\n",
    "}\n",
    "\"\"\"\n",
    "\n",
    "print (system_prompt)"
   ]
  },
  {
   "cell_type": "code",
   "execution_count": 69,
   "id": "f23c0569-ee47-44c1-b56a-58cb27a34e84",
   "metadata": {},
   "outputs": [],
   "source": [
    "def get_user_prompt():\n",
    "    user_prompt = \"Here are the links of a website\"\n",
    "    user_prompt += \"\\n\".join(web.links)\n",
    "    user_prompt += \"Please decide which links are relevant to create brocure for the company. Skip pages like Terms of Service, Privacy. Respond with the full https URL in JSON format\"\n",
    "    return user_prompt"
   ]
  },
  {
   "cell_type": "code",
   "execution_count": 75,
   "id": "8209096b-4eb2-4db8-b4d5-201864038827",
   "metadata": {},
   "outputs": [
    {
     "name": "stdout",
     "output_type": "stream",
     "text": [
      "{'links': [{'type': 'about page', 'url': 'https://www.explodingkittens.com/pages/about'}, {'type': 'contact page', 'url': 'https://www.explodingkittens.com/pages/contact'}, {'type': 'blog', 'url': 'https://www.explodingkittens.com/blog'}, {'type': 'products page', 'url': 'https://www.explodingkittens.com/products/throw-throw-burrito-original-edition'}, {'type': 'animations', 'url': 'https://www.explodingkittens.com/animations'}, {'type': 'comics', 'url': 'https://www.explodingkittens.com/comics'}, {'type': 'games', 'url': 'https://www.explodingkittens.com/games'}, {'type': 'books', 'url': 'https://www.explodingkittens.com/books'}]}\n"
     ]
    }
   ],
   "source": [
    "def get_links(url):\n",
    "\n",
    "    web = Website(url)\n",
    "    user_prompt = get_user_prompt()\n",
    "    openai = OpenAI()\n",
    "    messages = [{\"role\" : \"system\", \"content\": system_prompt},{\"role\" : \"user\" , \"content\": user_prompt}]\n",
    "    response = openai.chat.completions.create(model=MODEL, messages = messages)\n",
    "    links = response.choices[0].message.content\n",
    "    return json.loads(links)"
   ]
  },
  {
   "cell_type": "code",
   "execution_count": 108,
   "id": "f6d0eb74-272f-4574-8cd2-ad56a49d441f",
   "metadata": {
    "editable": true,
    "slideshow": {
     "slide_type": ""
    },
    "tags": []
   },
   "outputs": [],
   "source": [
    "#get contents of relevant pages of website\n",
    "def get_website_summary(url):\n",
    "    summary = Website(url).get_contents()\n",
    "    links = get_links(url)\n",
    "    \n",
    "    for link in links[\"links\"]:\n",
    "        link_contents = Website(link[\"url\"]).get_contents()\n",
    "        summary += link_contents\n",
    "    return summary\n"
   ]
  },
  {
   "cell_type": "code",
   "execution_count": 109,
   "id": "2ebf02cd-2f09-4b39-bee1-8ead9397ffb2",
   "metadata": {
    "editable": true,
    "slideshow": {
     "slide_type": ""
    },
    "tags": []
   },
   "outputs": [],
   "source": [
    "brochure_system_prompt = \"You are an assistant that analyzes the contents of several relevant pages from a company website \\\n",
    "and creates a short, humorous and quirky brochure about the company for prospective customers, investors and recruits. Respond in markdown.\\\n",
    "Include details of company culture, customers and careers/jobs if you have the information.\"\n",
    "\n",
    "def get_brochure_user_prompt(url):\n",
    "    brochure_user_prompt = f\"You are looking at the website {url} \\n. Please create a short brochure for the company. \\nHere is the content of several relevant pages of a website \\n\"\n",
    "    brochure_user_prompt += get_website_summary(url)\n",
    "    return brochure_user_prompt\n",
    "    "
   ]
  },
  {
   "cell_type": "code",
   "execution_count": 122,
   "id": "4d0660c0-8728-4375-ad51-96223dfa1524",
   "metadata": {},
   "outputs": [],
   "source": [
    "# make call to gpt to create brochhure\n",
    "def create_brochure(url):\n",
    "    messages = [{\"role\": \"system\", \"content\": brochure_system_prompt}, {\"role\": \"user\", \"content\": brochure_user_prompt}]\n",
    "    response = openai.chat.completions.create(model=MODEL, messages=messages)\n",
    "    \n",
    "    # if stream=True is passed\n",
    "    # for chunk in response:\n",
    "    #     display(Markdown(chunk.choices[0].delta.content))\n",
    "    \n",
    "    result = response.choices[0].message.content\n",
    "    return result\n",
    "\n"
   ]
  },
  {
   "cell_type": "code",
   "execution_count": 123,
   "id": "97da21b8-8edf-4e39-aad9-72de04d57b53",
   "metadata": {},
   "outputs": [
    {
     "data": {
      "text/markdown": [
       "# 📜 Welcome to The Oatmeal: Where Creativity Meets Cats! 🐱\n",
       "\n",
       "---\n",
       "\n",
       "## **What’s Cooking at The Oatmeal?**\n",
       "\n",
       "At The Oatmeal, we transform unremarkable moments into delightful bursts of laughter! Founded by the witty and wonderfully eccentric Matthew Inman, we serve you comics, quizzes, and love for all things nerdy. It’s like your grandma’s kitchen but without the awkward Thanksgiving conversations (unless you want them).\n",
       "\n",
       "### **Who Are Our Customers? (Hint: Everyone!)**\n",
       "\n",
       "1. **Cat People:** You have a special place in our hearts (and comics).\n",
       "2. **Coffee Addicts:** For those that fuel their genius with caffeine, we get you!\n",
       "3. **Nerds & Geeks:** Whether you're into cosplay or coding, you're our *kinda* people.\n",
       "4. **Lovers of Food:** Because who doesn't love a cartoon about everyday culinary disasters?\n",
       "\n",
       "---\n",
       "\n",
       "## **Company Culture: Quirky, Creative, and Cat-centric**\n",
       "\n",
       "Here at The Oatmeal, we believe in embracing your weirdness! Our office looks like a rainbow exploded, and somewhere, there’s definitely at least one cat lounging on a pile of designer pillows.\n",
       "\n",
       "### **Core Values:**\n",
       "- **Celebrate the Absurd:** Life is way too short for boring. We thrive on creativity and hilarious ideas!\n",
       "- **Punny Business:** If it doesn't make you giggle, why bother?\n",
       "- **Cats, Cats, and More Cats:** It’s a scientific fact that creativity increases with feline companionship. Okay, we made that up, but it feels true.\n",
       "\n",
       "---\n",
       "\n",
       "## **Join Our Realm of Brilliance! 🚀 Careers at The Oatmeal**\n",
       "\n",
       "Looking to join a team where your wittiness is not just appreciated but celebrated? Here’s what you can expect when you hop on-board:\n",
       "\n",
       "### **Job Perks:**\n",
       "- **Flexible Hours:** Work when your brain is the most caffeinated!\n",
       "- **Creative Freedom:** Write your comedy gold or draw the next meme masterpiece. No judgment, just applause!\n",
       "- **Monthly “Nerd Out” Days:** Game on or indulge in binge-watching your favorite shows with our crew!\n",
       "\n",
       "### **Available Positions:**\n",
       "- Professional Cat Cuddler (with a side of comic drawing, obviously)\n",
       "- Pun Developer (must know at least 100 puns or possess the will to learn)\n",
       "- Head of Quirk (responsible for maintaining the absurdity level at work)\n",
       "\n",
       "---\n",
       "\n",
       "## 🍵 Why Choose The Oatmeal?\n",
       "\n",
       "Because it’s not just oatmeal; it’s a delicious bowl of laughter! We’re not saying we’ll change your life, but you will definitely chuckle or snort (particularly if you're a coffee drinker) at least once a day if you hang around us.\n",
       "\n",
       "---\n",
       "\n",
       "**Ready to join the madness?** Head over to our careers page! Embrace your weirdness with open arms, and let’s create something hilarious together! \n",
       "\n",
       "---\n",
       "\n",
       "🛒 **Shop Our Wares:** Swing by our merch section for comics, books, and cat-illustrated items that say, “Yes, I can be quirky in public!”\n",
       "\n",
       "**The Oatmeal:** Where every day is a pun-derful adventure! \n",
       "\n",
       "---"
      ],
      "text/plain": [
       "<IPython.core.display.Markdown object>"
      ]
     },
     "metadata": {},
     "output_type": "display_data"
    }
   ],
   "source": [
    "url = \"https://theoatmeal.com/\"\n",
    "display(Markdown(create_brochure(url)))"
   ]
  },
  {
   "cell_type": "code",
   "execution_count": 120,
   "id": "a1dfd74a-8181-4df1-82c5-65b9c1852cd7",
   "metadata": {
    "editable": true,
    "slideshow": {
     "slide_type": ""
    },
    "tags": []
   },
   "outputs": [],
   "source": [
    "translater_system_prompt = \"You are a translater who can translate from English to Spanish\"\n",
    "\n",
    "def get_translater_user_prompt(content): \n",
    "    user_prompt = \"Given the brochure of a company in English, translate it in Spanish language\\n\"\n",
    "    user_prompt += content\n",
    "    return user_prompt\n",
    "    \n",
    "\n",
    "def translate_in_spanish(content):\n",
    "    messages = [{\"role\": \"system\", \"content\": translater_system_prompt}, {\"role\": \"user\", \"content\": get_translater_user_prompt(content)}]\n",
    "    response = openai.chat.completions.create(model=MODEL, messages=messages)\n",
    "    return response.choices[0].message.content\n",
    "\n"
   ]
  },
  {
   "cell_type": "code",
   "execution_count": 127,
   "id": "a8cfe833-2336-489a-9d22-9c8854ce8ca2",
   "metadata": {},
   "outputs": [
    {
     "data": {
      "text/markdown": [
       "# ¡Bienvenido a The Oatmeal: Un Sitcom Serio para Personas más Inteligentes!\n",
       "\n",
       "**¿Quiénes Somos?**  \n",
       "Un grupo genial de escritores y dibujantes que creen que un grano de humor puede hacer una gran diferencia. Fundado por el aparentemente inmortal Matthew Inman, The Oatmeal está aquí para hacerte reír mientras te proporciona una variada gama de contenido educativo que va desde **ilustraciones y cómics peculiares** hasta **bombas de conocimiento** que explotan con sabiduría inesperada.\n",
       "\n",
       "### ¡Nuestros Clientes son No Monotónicos!\n",
       "\n",
       "Nuestros fans son esas personas fabulosas que, al igual que nosotros, creen en el poder de la risa mezclada con el aprendizaje. Ya seas un analista de datos amante del café, un padre o madre que se queda en casa buscando risas, o un entusiasta de los gatos inmerso en memes de gatos, ¡tenemos algo solo para ti! Nuestra audiencia diversa incluye:\n",
       "\n",
       "- **Nerds y Geeks**: Desde matemáticos hasta magos del código.\n",
       "- **Amantes de los Gatos**: Porque, ¿quién no disfruta de un compañero ronroneador mientras se desplaza por memes?\n",
       "- **Snobs del Café**: ¡Tus quejas alimentadas por cafeína han encontrado su pareja en nuestro humor!\n",
       "\n",
       "### Carreras en The Oatmeal: Donde lo Ingenioso se Encuentra con lo Resiliente\n",
       "\n",
       "¿Buscas unirte a una comunidad que celebra la rareza como la forma más alta de inteligencia? Consulta nuestras oportunidades laborales donde podrás trabajar junto a algunas de las mentes más peculiares.\n",
       "\n",
       "- **Creadores de Cómics**: ¿Tienes talento para el humor? ¡Podrías convertir lo mundano en momentos dignos de meme!\n",
       "- **Magos de las Palabras**: Escritores prolíficos que pueden convertir un simple “hola” en una epifanía.\n",
       "- **Cultivadores de Gatos (y otras mascotas)**: Está bien, puede que solo necesites llevar a tu mascota a la oficina; ¡se recomienda encarecidamente para la moral!\n",
       "\n",
       "### Nuestra Cultura Empresarial: ¡Donde la Diversión se Encuentra con la Funcionalidad!\n",
       "\n",
       "En The Oatmeal, creemos en una mezcla de creatividad, colaboración y cafeína. Imagina un espacio de trabajo donde:\n",
       "\n",
       "- **Sesiones de Lluvia de Ideas**: Estas a menudo se convierten en competencias de baile espontáneas. ¡Sí, nos tomamos nuestra diversión *muy* en serio!\n",
       "- **Horarios de Trabajo Flexibles**: Llegar a la oficina a la hora que dicte tu espíritu animal interno, ¡siempre y cuando cumplas con tus plazos!\n",
       "- **Salud y Bienestar**: Sesiones semanales de yoga de la risa (en serio) para mantener altos los ánimos y trabajar los abdominales.\n",
       "\n",
       "### ¿Por Qué Elegir The Oatmeal?\n",
       "\n",
       "Si estás buscando un lugar que celebre la inteligencia envuelta en humor, ¡no busques más! Aquí, producimos contenido que te hace sonreír, pensar y, a veces, llorar (de la risa). ¡Estamos contigo cuando se trata de compartir ideas que hacen que el mundo sea un poco más brillante y mucho más divertido!\n",
       "\n",
       "---\n",
       "\n",
       "**¡Únete a nosotros en The Oatmeal—donde el humor y la sabiduría chocan en una espectacular exhibición de hilaridad, aprendizaje y apreciación felina!** 🐱✨ \n",
       "\n",
       "Recuerda: La vida es demasiado corta para contenido aburrido. ¡Dale un toque especial con un poco de avena!"
      ],
      "text/plain": [
       "<IPython.core.display.Markdown object>"
      ]
     },
     "metadata": {},
     "output_type": "display_data"
    }
   ],
   "source": [
    "url = \"https://theoatmeal.com/\"\n",
    "display(Markdown(translate_in_spanish(create_brochure(url))))"
   ]
  },
  {
   "cell_type": "code",
   "execution_count": null,
   "id": "0cb7d84b-8095-4d6c-b4c4-8426ec57b72a",
   "metadata": {
    "editable": true,
    "slideshow": {
     "slide_type": ""
    },
    "tags": []
   },
   "outputs": [],
   "source": []
  }
 ],
 "metadata": {
  "kernelspec": {
   "display_name": "Python 3 (ipykernel)",
   "language": "python",
   "name": "python3"
  },
  "language_info": {
   "codemirror_mode": {
    "name": "ipython",
    "version": 3
   },
   "file_extension": ".py",
   "mimetype": "text/x-python",
   "name": "python",
   "nbconvert_exporter": "python",
   "pygments_lexer": "ipython3",
   "version": "3.10.7"
  }
 },
 "nbformat": 4,
 "nbformat_minor": 5
}
