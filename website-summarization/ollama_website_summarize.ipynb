{
 "cells": [
  {
   "cell_type": "code",
   "execution_count": 5,
   "id": "dfff6b32-0ee3-457a-97d9-479f0897be33",
   "metadata": {},
   "outputs": [],
   "source": [
    "import ollama\n",
    "import requests\n",
    "import os\n",
    "from bs4 import BeautifulSoup"
   ]
  },
  {
   "cell_type": "code",
   "execution_count": 6,
   "id": "583e3df1-7aa4-41ec-941a-721d32c5281b",
   "metadata": {},
   "outputs": [],
   "source": [
    "OLLAMA_API = \"http://localhost:11434/api/chat\"\n",
    "HEADERS = {\"Content-Type\": \"application/json\"}\n",
    "MODEL= \"llama3.2:1b\""
   ]
  },
  {
   "cell_type": "code",
   "execution_count": 7,
   "id": "4235348e-cc36-4ffb-920a-e3e9c5e8ff89",
   "metadata": {},
   "outputs": [],
   "source": [
    "headers = {\n",
    " \"User-Agent\": \"Mozilla/5.0 (Windows NT 10.0; Win64; x64) AppleWebKit/537.36 (KHTML, like Gecko) Chrome/117.0.0.0 Safari/537.36\"\n",
    "}\n",
    "\n",
    "class Website:\n",
    "\n",
    "    url: str\n",
    "    title: str\n",
    "    text: str\n",
    "\n",
    "    def __init__(self, url):\n",
    "        self.url = url\n",
    "        response = requests.get(url, headers=headers)\n",
    "        soup = BeautifulSoup(response.content, 'html.parser')\n",
    "        self.title = soup.title.string if soup.title else \"No title found\"\n",
    "        for irrelevant in soup.body([\"script\", \"style\", \"img\", \"input\"]):\n",
    "            irrelevant.decompose()\n",
    "        self.text = soup.body.get_text(separator=\"\\n\", strip=True)"
   ]
  },
  {
   "cell_type": "code",
   "execution_count": 13,
   "id": "053708fd-38cc-4f97-bbd5-9a8dfc75a5f8",
   "metadata": {},
   "outputs": [],
   "source": [
    "system_prompt = \"You are an assistant who analyzes content of a website given the content and will summarize it. Ignore navigation related information.\"\n",
    "\n",
    "\n",
    "def get_user_prompt(website):\n",
    "    user_prompt = f\"You are looking at a website titled {website.title}\"\n",
    "    user_prompt += \"\\nThe contents of this website is as follows; \\\n",
    "        please provide a short summary of this website in markdown. \\\n",
    "        If it includes news or announcements, then summarize these too.\\n\\n\"\n",
    "    user_prompt += website.text\n",
    "    return user_prompt\n",
    "\n"
   ]
  },
  {
   "cell_type": "code",
   "execution_count": 14,
   "id": "a0e8819e-5da7-4a77-a13e-47b8fd2ce1c5",
   "metadata": {},
   "outputs": [],
   "source": [
    "def summarize(url):\n",
    "    web = Website(url)\n",
    "    messages = [\n",
    "        {\"role\": \"system\", \"content\": system_prompt},\n",
    "        {\"role\": \"user\", \"content\": get_user_prompt(web)}\n",
    "        ]\n",
    "    response = ollama.chat(model = MODEL, messages = messages)\n",
    "    print(response['message']['content'])\n",
    "    "
   ]
  },
  {
   "cell_type": "code",
   "execution_count": 15,
   "id": "09fc5875-e05b-4123-a3c8-e2305317f1da",
   "metadata": {},
   "outputs": [
    {
     "name": "stdout",
     "output_type": "stream",
     "text": [
      "The article lists several key events and developments from the year 2023, including:\n",
      "\n",
      "1. The Ukraine-Russia War: The conflict between Ukraine and Russia continued to escalate, with airstrikes and fighting reported in eastern Ukraine.\n",
      "2. Russia's invasion of Poland: Poland was invaded by Russian forces, leading to widespread condemnation and military aid from NATO countries.\n",
      "3. Elon Musk's Twitter feud: Musk clashed with several high-profile users on Twitter, including celebrities like Kim Kardashian and Taylor Swift.\n",
      "4. The US Presidential Election: The 2024 US presidential election is still ongoing, but it has already begun with debates between incumbent President Joe Biden and challenger Donald Trump.\n",
      "5. COVID-19 vaccination efforts: The rollout of COVID-19 vaccines continued globally, with many countries reporting significant progress in terms of vaccination rates.\n",
      "\n",
      "The article also mentions some notable figures and events that were mentioned or discussed in 2023, including:\n",
      "\n",
      "* Elon Musk's net worth increased significantly due to his successful Twitter feud.\n",
      "* The discovery of a new species of dinosaur fossil in the United States.\n",
      "* The launch of the SpaceX Starship, a reusable spacecraft designed for space travel.\n",
      "\n",
      "Overall, the article suggests that 2024 has been marked by significant global events and developments, including conflicts, elections, and technological advancements.\n"
     ]
    }
   ],
   "source": [
    "summarize(\"https://cnn.com\")"
   ]
  },
  {
   "cell_type": "code",
   "execution_count": null,
   "id": "5832eb3a-522d-48aa-a1f3-9a32434e5e53",
   "metadata": {},
   "outputs": [],
   "source": []
  }
 ],
 "metadata": {
  "kernelspec": {
   "display_name": "Python 3 (ipykernel)",
   "language": "python",
   "name": "python3"
  },
  "language_info": {
   "codemirror_mode": {
    "name": "ipython",
    "version": 3
   },
   "file_extension": ".py",
   "mimetype": "text/x-python",
   "name": "python",
   "nbconvert_exporter": "python",
   "pygments_lexer": "ipython3",
   "version": "3.10.7"
  }
 },
 "nbformat": 4,
 "nbformat_minor": 5
}
