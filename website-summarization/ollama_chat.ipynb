{
 "cells": [
  {
   "cell_type": "code",
   "execution_count": 4,
   "id": "b828879a-75ec-4a2a-aec2-5fdf19e5ed4c",
   "metadata": {},
   "outputs": [],
   "source": [
    "import ollama"
   ]
  },
  {
   "cell_type": "code",
   "execution_count": 8,
   "id": "ed0df65e-1a6e-4e7e-8dc8-0e2e99353718",
   "metadata": {},
   "outputs": [],
   "source": [
    "MODEL = \"llama3.2:1b\""
   ]
  },
  {
   "cell_type": "code",
   "execution_count": 7,
   "id": "b831c6c5-5a3d-4c1f-9fcd-4408f397a745",
   "metadata": {},
   "outputs": [
    {
     "name": "stdout",
     "output_type": "stream",
     "text": [
      "Here are some fiction book suggestions across various genres:\n",
      "\n",
      "**Thriller/Action**\n",
      "\n",
      "1. \"Gone Girl\" by Gillian Flynn - A psychological thriller about a marriage that takes a dark and unexpected turn.\n",
      "2. \"The Silent Patient\" by Alex Michaelides - A famous painter shoots her husband and refuses to speak, and a psychotherapist becomes obsessed with uncovering the truth behind her silence.\n",
      "3. \"The Girl on the Train\" by Paula Hawkins - A commuter witnesses a perfect couple's life, but when the wife goes missing, she becomes entangled in a mystery that puts her own life at risk.\n",
      "\n",
      "**Science Fiction/Fantasy**\n",
      "\n",
      "1. \"The Three-Body Problem\" by Liu Cixin - A science fiction novel set against the backdrop of China's Cultural Revolution, exploring the first contact between humans and an alien civilization.\n",
      "2. \"The Power\" by Naomi Alderman - A speculative fiction novel that explores a world where women suddenly develop the ability to release electrical jolts from their fingertips, allowing them to dominate and control society.\n",
      "3. \"The Night Circus\" by Erin Morgenstern - A magical realist novel set in a mysterious circus that appears at night, filled with enchanting characters and competitions.\n",
      "\n",
      "**Romance**\n",
      "\n",
      "1. \"The Hating Game\" by Sally Thorne - A romantic comedy about two executive assistants who engage in a series of escalating pranks and one-upmanship until they realize their feelings for each other.\n",
      "2. \"Eleanor Oliphant is Completely Fine\" by Gail Honeyman - A heartwarming novel about a socially awkward woman who develops feelings for a new coworker, but struggles to open up and connect with others.\n",
      "3. \"The Rosie Project\" by Graeme Simsion - A humorous novel about a professor who sets out to find love using a scientific approach, but ends up falling for a free-spirited woman.\n",
      "\n",
      "**Mystery/Detective**\n",
      "\n",
      "1. \"And Then There Were None\" by Agatha Christie - A classic whodunit novel about ten strangers invited to an isolated island, only to be killed off one by one.\n",
      "2. \"The Murder on the Orient Express\" by Agatha Christie - Another classic whodunit featuring Hercule Poirot as he investigates a murder on a luxurious train traveling from Istanbul to Paris.\n",
      "3. \"Gone Baby Gone\" by Dennis Lehane - A crime novel about two young detectives in Boston who investigate the disappearance of a young girl.\n",
      "\n",
      "**Historical Fiction**\n",
      "\n",
      "1. \"All the Light We Cannot See\" by Anthony Doerr - A historical novel set during World War II, told from the perspectives of a blind French girl and a German boy.\n",
      "2. \"The Book Thief\" by Markus Zusak - A powerful novel about a young German girl who discovers the power of words and literature during World War II.\n",
      "3. \"The Alice Network\" by Kate Quinn - A historical novel based on the true story of two women, a socialite and a spy, who worked together to help Allied prisoners of war during World War I.\n",
      "\n",
      "**Young Adult**\n",
      "\n",
      "1. \"The Hate U Give\" by Angie Thomas - A powerful young adult novel about a teenage girl who witnesses the fatal shooting of her unarmed friend by a police officer.\n",
      "2. \"To All the Boys I've Loved Before\" by Jenny Han - A romantic comedy about a high school girl whose secret love letters are accidentally sent to her crushes.\n",
      "3. \"The Perks of Being a Wallflower\" by Stephen Chbosky - A coming-of-age novel about a shy teenager who navigates high school and friendship in the 1990s.\n",
      "\n",
      "I hope you find something that interests you!\n"
     ]
    }
   ],
   "source": [
    "messages = [{\"role\": \"user\", \"content\": \"send me some fiction book suggestions\"}]\n",
    "response = ollama.chat(model=MODEL, messages=messages)\n",
    "print(response['message']['content'])\n"
   ]
  },
  {
   "cell_type": "code",
   "execution_count": null,
   "id": "6db71daf-d882-4017-a97d-5ea6c7ed31b5",
   "metadata": {},
   "outputs": [],
   "source": []
  }
 ],
 "metadata": {
  "kernelspec": {
   "display_name": "Python 3 (ipykernel)",
   "language": "python",
   "name": "python3"
  },
  "language_info": {
   "codemirror_mode": {
    "name": "ipython",
    "version": 3
   },
   "file_extension": ".py",
   "mimetype": "text/x-python",
   "name": "python",
   "nbconvert_exporter": "python",
   "pygments_lexer": "ipython3",
   "version": "3.10.7"
  }
 },
 "nbformat": 4,
 "nbformat_minor": 5
}
