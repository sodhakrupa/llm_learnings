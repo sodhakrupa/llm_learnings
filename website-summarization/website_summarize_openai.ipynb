{
 "cells": [
  {
   "cell_type": "code",
   "execution_count": 16,
   "id": "310f6402-df09-42e4-8bfa-ae2c15844f00",
   "metadata": {
    "editable": true,
    "slideshow": {
     "slide_type": ""
    },
    "tags": []
   },
   "outputs": [],
   "source": [
    "import nbimporter\n",
    "import requests\n",
    "import os\n",
    "from bs4 import BeautifulSoup\n",
    "from openai import OpenAI\n",
    "from dotenv import load_dotenv\n",
    "from common import Website\n"
   ]
  },
  {
   "cell_type": "code",
   "execution_count": 17,
   "id": "bae0680a-5933-4ed9-bfff-974252bbb269",
   "metadata": {},
   "outputs": [],
   "source": [
    "system_prompt = \"You are an assistant who analyzes content of a website given the content and will summarize it. Ignore navigation related information.\"\n",
    "\n",
    "\n",
    "def get_user_prompt(website):\n",
    "    user_prompt = f\"You are looking at a website titled {website.title}\"\n",
    "    user_prompt += \"\\nThe contents of this website is as follows; \\\n",
    "        please provide a short summary of this website in markdown. \\\n",
    "        If it includes news or announcements, then summarize these too.\\n\\n\"\n",
    "    user_prompt += website.text\n",
    "    return user_prompt\n",
    "\n",
    "\n"
   ]
  },
  {
   "cell_type": "code",
   "execution_count": 18,
   "id": "e94446ec-a704-4fe2-ba5c-2d1ced8a91f5",
   "metadata": {},
   "outputs": [],
   "source": [
    "def summarize(url):\n",
    "    headers = {\n",
    "         \"User-Agent\": \"Mozilla/5.0 (Windows NT 10.0; Win64; x64) AppleWebKit/537.36 (KHTML, like Gecko) Chrome/117.0.0.0 Safari/537.36\"\n",
    "    }\n",
    "    web = Website(url, headers=headers)\n",
    "    messages = [\n",
    "        {\"role\": \"system\", \"content\": system_prompt},\n",
    "        {\"role\": \"user\", \"content\": get_user_prompt(web)}\n",
    "        ]\n",
    "    openai = OpenAI()\n",
    "    response = openai.chat.completions.create(model = \"gpt-4o-mini\", messages = messages)\n",
    "    response = openai.chat.completions.create(\n",
    "        model = \"gpt-4o-mini\",\n",
    "        messages = messages\n",
    "    )\n",
    "    print(response.choices[0].message.content)\n",
    "    "
   ]
  },
  {
   "cell_type": "code",
   "execution_count": 20,
   "id": "dbcf1aa9-1c2c-43dd-9a97-54aff0c32459",
   "metadata": {},
   "outputs": [
    {
     "name": "stdout",
     "output_type": "stream",
     "text": [
      "# The Oatmeal - Comics by Matthew Inman\n",
      "\n",
      "The Oatmeal is a website created by cartoonist Matthew Inman, where he has been publishing comics since 2009. The site features various content, including:\n",
      "\n",
      "- **Comics**: A collection of humorous and engaging comics spanning different themes.\n",
      "- **Animations**: New animated content that brings some of the comics to life.\n",
      "- **Games**: Card games developed by Inman, including popular titles like *Exploding Kittens* and *Throw Throw Burrito*.\n",
      "- **Books**: Compilations of his comics, with titles like *How to Tell if Your Cat is Plotting to Kill You*.\n",
      "- **Blog**: An area for additional content and updates.\n",
      "\n",
      "### News and Announcements\n",
      "- Matthew Inman has announced that his Netflix series is now streaming, expanding the reach of his creative work beyond the website.\n"
     ]
    }
   ],
   "source": [
    "load_dotenv()\n",
    "\n",
    "openapi_key = os.getenv('OPENAI_API_KEY')\n",
    "\n",
    "summarize(\"https://theoatmeal.com/\")"
   ]
  },
  {
   "cell_type": "code",
   "execution_count": null,
   "id": "03c9227a-8d2d-4198-af0b-ffdba456d225",
   "metadata": {},
   "outputs": [],
   "source": []
  },
  {
   "cell_type": "markdown",
   "id": "6cbf76a8-bc8a-4c71-a697-3a51913ad306",
   "metadata": {},
   "source": []
  }
 ],
 "metadata": {
  "kernelspec": {
   "display_name": "Python 3 (ipykernel)",
   "language": "python",
   "name": "python3"
  },
  "language_info": {
   "codemirror_mode": {
    "name": "ipython",
    "version": 3
   },
   "file_extension": ".py",
   "mimetype": "text/x-python",
   "name": "python",
   "nbconvert_exporter": "python",
   "pygments_lexer": "ipython3",
   "version": "3.10.7"
  }
 },
 "nbformat": 4,
 "nbformat_minor": 5
}
