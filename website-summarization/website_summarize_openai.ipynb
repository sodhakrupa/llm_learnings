{
 "cells": [
  {
   "cell_type": "code",
   "execution_count": 3,
   "id": "310f6402-df09-42e4-8bfa-ae2c15844f00",
   "metadata": {},
   "outputs": [],
   "source": [
    "import requests\n",
    "import os\n",
    "from bs4 import BeautifulSoup\n",
    "from openai import OpenAI\n",
    "from dotenv import load_dotenv\n",
    "\n",
    "headers = {\n",
    " \"User-Agent\": \"Mozilla/5.0 (Windows NT 10.0; Win64; x64) AppleWebKit/537.36 (KHTML, like Gecko) Chrome/117.0.0.0 Safari/537.36\"\n",
    "}\n",
    "\n",
    "class Website:\n",
    "\n",
    "    url: str\n",
    "    title: str\n",
    "    text: str\n",
    "\n",
    "    def __init__(self, url):\n",
    "        self.url = url\n",
    "        response = requests.get(url, headers=headers)\n",
    "        soup = BeautifulSoup(response.content, 'html.parser')\n",
    "        self.title = soup.title.string if soup.title else \"No title found\"\n",
    "        for irrelevant in soup.body([\"script\", \"style\", \"img\", \"input\"]):\n",
    "            irrelevant.decompose()\n",
    "        self.text = soup.body.get_text(separator=\"\\n\", strip=True)\n",
    "\n"
   ]
  },
  {
   "cell_type": "code",
   "execution_count": 4,
   "id": "bae0680a-5933-4ed9-bfff-974252bbb269",
   "metadata": {},
   "outputs": [],
   "source": [
    "system_prompt = \"You are an assistant who analyzes content of a website given the content and will summarize it. Ignore navigation related information.\"\n",
    "\n",
    "\n",
    "def get_user_prompt(website):\n",
    "    user_prompt = f\"You are looking at a website titled {website.title}\"\n",
    "    user_prompt += \"\\nThe contents of this website is as follows; \\\n",
    "        please provide a short summary of this website in markdown. \\\n",
    "        If it includes news or announcements, then summarize these too.\\n\\n\"\n",
    "    user_prompt += website.text\n",
    "    return user_prompt\n",
    "\n",
    "\n"
   ]
  },
  {
   "cell_type": "code",
   "execution_count": 5,
   "id": "e94446ec-a704-4fe2-ba5c-2d1ced8a91f5",
   "metadata": {},
   "outputs": [],
   "source": [
    "def summarize(url):\n",
    "    web = Website(url)\n",
    "    messages = [\n",
    "        {\"role\": \"system\", \"content\": system_prompt},\n",
    "        {\"role\": \"user\", \"content\": get_user_prompt(web)}\n",
    "        ]\n",
    "    openai = OpenAI()\n",
    "    response = openai.chat.completions.create(model = \"gpt-4o-mini\", messages = messages)\n",
    "    response = openai.chat.completions.create(\n",
    "        model = \"gpt-4o-mini\",\n",
    "        messages = messages\n",
    "    )\n",
    "    print(response.choices[0].message.content)\n",
    "    "
   ]
  },
  {
   "cell_type": "code",
   "execution_count": 6,
   "id": "dbcf1aa9-1c2c-43dd-9a97-54aff0c32459",
   "metadata": {},
   "outputs": [
    {
     "name": "stdout",
     "output_type": "stream",
     "text": [
      "# Summary of Edward Donner's Website\n",
      "\n",
      "The website is maintained by Ed Donner, a co-founder and CTO of **Nebula.io**, a company focused on harnessing AI to enhance talent discovery and management. Ed has a background in coding, experimentation with LLMs (Large Language Models), and a passion for DJing and amateur electronic music.\n",
      "\n",
      "## Key Features:\n",
      "- **Outsmart**: An innovative arena where LLMs compete in diplomacy and strategy.\n",
      "- **About Ed**: Ed describes his interests, his journey in tech, and his previous role as the founder and CEO of AI startup **untapt**, which was acquired in 2021.\n",
      "- **Connect**: Visitors are encouraged to connect with Ed, and he offers a newsletter subscription for updates.\n",
      "\n",
      "## News and Announcements:\n",
      "- **December 21, 2024**: Welcome to SuperDataScientists!\n",
      "- **November 13, 2024**: Mastering AI and LLM Engineering – Resources.\n",
      "- **October 16, 2024**: From Software Engineer to AI Data Scientist – Resources.\n",
      "- **August 6, 2024**: Introduction to the Outsmart LLM Arena – a competition centered on strategy and diplomacy among LLMs.\n"
     ]
    }
   ],
   "source": [
    "load_dotenv()\n",
    "\n",
    "openapi_key = os.getenv('OPENAI_API_KEY')\n",
    "\n",
    "summarize(\"https://cnn.com\")"
   ]
  },
  {
   "cell_type": "code",
   "execution_count": null,
   "id": "03c9227a-8d2d-4198-af0b-ffdba456d225",
   "metadata": {},
   "outputs": [],
   "source": []
  },
  {
   "cell_type": "code",
   "execution_count": null,
   "id": "8d69d5d4-ee3b-4ff8-8fe6-b11d2ebe87f8",
   "metadata": {},
   "outputs": [],
   "source": []
  }
 ],
 "metadata": {
  "kernelspec": {
   "display_name": "Python 3 (ipykernel)",
   "language": "python",
   "name": "python3"
  },
  "language_info": {
   "codemirror_mode": {
    "name": "ipython",
    "version": 3
   },
   "file_extension": ".py",
   "mimetype": "text/x-python",
   "name": "python",
   "nbconvert_exporter": "python",
   "pygments_lexer": "ipython3",
   "version": "3.10.7"
  }
 },
 "nbformat": 4,
 "nbformat_minor": 5
}
