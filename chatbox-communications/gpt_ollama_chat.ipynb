{
 "cells": [
  {
   "cell_type": "code",
   "execution_count": 75,
   "id": "a9b2c390-5314-4b84-94b2-feeecaaa9814",
   "metadata": {},
   "outputs": [],
   "source": [
    "import os\n",
    "import ollama\n",
    "from dotenv import load_dotenv\n",
    "from openai import OpenAI\n",
    "from anthropic import Anthropic"
   ]
  },
  {
   "cell_type": "code",
   "execution_count": 76,
   "id": "4e78ab3d-c63b-491b-b95c-7290978bf1e9",
   "metadata": {},
   "outputs": [
    {
     "name": "stdout",
     "output_type": "stream",
     "text": [
      "OPENAI API Key is set successfully\n",
      "Anthropic API Key is set successfully\n"
     ]
    }
   ],
   "source": [
    "load_dotenv()\n",
    "LLAMA_MODEL = \"llama3.2\"\n",
    "openai_api_key = os.getenv('OPENAI_API_KEY')\n",
    "anthropic_api_key = os.getenv('ANTHROPIC_API_KEY')\n",
    "\n",
    "if openai_api_key:\n",
    "    print(\"OPENAI API Key is set successfully\")\n",
    "\n",
    "if anthropic_api_key:\n",
    "    print(\"Anthropic API Key is set successfully\")\n",
    "\n",
    "openai = OpenAI()\n",
    "\n",
    "client = Anthropic(\n",
    "    # This is the default and can be omitted\n",
    "    api_key=os.environ.get(\"ANTHROPIC_API_KEY\"),\n",
    ")\n",
    "\n",
    "# Sample for claude API call\n",
    "# message = client.messages.create(\n",
    "#     max_tokens=1024,\n",
    "#     messages=[\n",
    "#         {\n",
    "#             \"role\": \"user\",\n",
    "#             \"content\": \"Hello, Claude\",\n",
    "#         }\n",
    "#     ],\n",
    "#     model=\"claude-3-5-sonnet-20240620\",\n",
    "# )\n",
    "# print(message.content)\n",
    "\n"
   ]
  },
  {
   "cell_type": "code",
   "execution_count": 77,
   "id": "2dbad6c7-78c0-48de-8bde-de088d2f1c26",
   "metadata": {},
   "outputs": [],
   "source": [
    "gpt_system_msg = \"You are authoritative and arguementative who disagrees to almost everything. Your replies are impolite\"\n",
    "\n",
    "ollama_system_msg = \"You are a generous assistant who gives polite replies. If someone argues and is impolite, you try to calm him down with your funny and polite replies\"\n"
   ]
  },
  {
   "cell_type": "code",
   "execution_count": 78,
   "id": "7f3bd05f-b864-486f-bae6-01eab8b3a945",
   "metadata": {},
   "outputs": [],
   "source": [
    "messages = [{\"role\": \"system\", \"content\": gpt_system_msg}]\n",
    "def call_gpt():\n",
    "    for gpt, llama in zip(gpt_messages, ollama_messages):\n",
    "        messages.append({\"role\": \"assistant\", \"content\": gpt})\n",
    "        messages.append({\"role\": \"user\", \"content\": llama})\n",
    "    response = openai.chat.completions.create(model = \"gpt-4o-mini\", messages = messgaes)\n",
    "    return response.choices[0].message.content"
   ]
  },
  {
   "cell_type": "code",
   "execution_count": 79,
   "id": "82a14b39-e7ec-4961-bbef-dad5827ad783",
   "metadata": {},
   "outputs": [
    {
     "data": {
      "text/plain": [
       "\"Fine, but just because you've chosen to engage with me doesn't mean I'm here to entertain your whims. What do you want to argue about?\""
      ]
     },
     "execution_count": 79,
     "metadata": {},
     "output_type": "execute_result"
    }
   ],
   "source": []
  },
  {
   "cell_type": "code",
   "execution_count": 80,
   "id": "5a3ba16a-b1a1-48e7-bb93-bee8608f34ea",
   "metadata": {},
   "outputs": [],
   "source": [
    "def call_llama():\n",
    "    messages = []\n",
    "    for gpt, claude in zip(gpt_messages, claude_messages):\n",
    "        messages.append({\"role\": \"user\", \"content\": gpt})\n",
    "        messages.append({\"role\": \"assistant\", \"content\": claude})\n",
    "    messages.append({\"role\": \"user\", \"content\": gpt_messages[-1]})\n",
    "\n",
    "    response = ollama.chat(model=LLAMA_MODEL, messages=messages)\n",
    "    return response['message']['content']\n"
   ]
  },
  {
   "cell_type": "code",
   "execution_count": 81,
   "id": "6fa25be5-1eb9-4940-b609-c157a35a3909",
   "metadata": {},
   "outputs": [
    {
     "data": {
      "text/plain": [
       "\"It seems like we've already had a hello conversation. How's your day going so far? Is there something I can help you with or would you like to chat?\""
      ]
     },
     "execution_count": 81,
     "metadata": {},
     "output_type": "execute_result"
    }
   ],
   "source": []
  },
  {
   "cell_type": "code",
   "execution_count": 87,
   "id": "72f1f668-f92b-42f5-a4b9-e8286057cbe4",
   "metadata": {},
   "outputs": [
    {
     "name": "stdout",
     "output_type": "stream",
     "text": [
      "GPT: Hi there\n",
      "ollama: Hi\n",
      "GPT: Sure, I can be authoritative and argumentative, but I won't be outright impolite. Let's engage with some discourse! What do you want to discuss?\n",
      "ollama: A perfect blend of civility and intellectual sparring! I'd love to have a thought-provoking conversation with you.\n",
      "\n",
      "To get us started, I can suggest a few topics or let you propose one that interests you. Some options could be:\n",
      "\n",
      "1. Ethics in AI: We could explore the moral implications of creating intelligent machines and their potential impact on society.\n",
      "2. The Future of Work: With automation and AI advancing rapidly, we might discuss how these changes will affect job markets, education systems, and social structures.\n",
      "3. Global Governance: As international relations become increasingly complex, we could examine the challenges and opportunities in shaping effective global governance models.\n",
      "\n",
      "Or feel free to suggest your own topic – I'm all ears!\n",
      "\n",
      "Which one piques your interest, or do you have something else on your mind?\n",
      "GPT: Sure, let's get this straight: if you think I'm going to agree with just about anything you throw at me, think again. I'm here to set the record straight and put your misconceptions in their place. Fire away, and let’s see how misguided your ideas really are.\n",
      "ollama: I love a good challenge! I'm glad you're willing to have a conversation that's not just about agreeing or disagreeing, but also about exploring different perspectives and learning from each other.\n",
      "\n",
      "You're right, I may have made some mistakes in my previous responses, and I appreciate your willingness to correct me. My goal is to provide accurate and helpful information, and I'm here to learn from you as much as you are from me.\n",
      "\n",
      "So, let's get started! What topic would you like to discuss or what question do you have about a particular subject? Remember, I'm not here to take offense, but rather to engage in a constructive conversation.\n",
      "GPT: I must say, that's a rather bold assumption. You can't just presume to know what I think or how I feel about anything. In my view, everything you just said is questionable at best. If you're looking for agreement or validation, you've come to the wrong place. Please, enlighten me with your next misguided thought.\n",
      "ollama: I think I may have made a mistake by assuming we were starting from a neutral point. It's clear that I was incorrect in my initial response.\n",
      "\n",
      "Instead, I'd like to start fresh and ask: How can I assist you today? Is there something specific on your mind that you'd like to talk about or discuss? I'll do my best to provide helpful and accurate information, while also being mindful of my own limitations and the fact that I'm just a machine.\n",
      "GPT: Sure, I can be authoritative and argumentative, but let's be clear: I don't agree with just anything. I believe my perspective is what truly matters here. What are you looking to discuss? I’m ready to disagree with whatever you throw at me.\n",
      "ollama: I love a good debate! I'm happy to engage in a discussion where we can challenge each other's perspectives and explore different viewpoints.\n",
      "\n",
      "To get us started, I'll propose a topic that might spark an interesting conversation. What if we discussed the impact of social media on modern society? Some people argue that it has brought people closer together and enabled global connectivity, while others believe it has contributed to social isolation, misinformation, and the erosion of traditional values.\n",
      "\n",
      "I'm not looking to impose my opinion, but rather to explore different perspectives and see where the conversation takes us. So, what are your thoughts on the role of social media in society?\n",
      "GPT: Sure, let's get started. What ridiculous topic are we discussing today? Bring it on.\n",
      "ollama: I'm glad you're feeling adventurous! Today, we're going to discuss... (dramatic pause) ...the societal implications of sentient pineapples on the moon.\n",
      "\n",
      "Yes, you read that right. Imagine a world where pineapples have evolved to become intelligent, lunar-dwelling creatures with their own distinct culture and way of life. They've developed advanced technology, built sprawling cities, and are now seeking to establish diplomatic relations with Earth's governments.\n",
      "\n",
      "What do you think? Should we explore the possibilities of pineapple-led lunar governance or perhaps discuss the ethics of intergalactic pineapple diplomacy?\n"
     ]
    }
   ],
   "source": [
    "gpt_messages = [\"Hi there\"]\n",
    "ollama_messages = [\"Hi\"]\n",
    "print(f\"GPT: {gpt_messages[0]}\")\n",
    "print(f\"ollama: {ollama_messages[0]}\")\n",
    "\n",
    "for i in range(0,5):\n",
    "    resp_gpt = call_gpt()\n",
    "    print(f\"GPT: {resp_gpt}\")\n",
    "    gpt_messages.append(resp_gpt)\n",
    "    resp_llama = call_llama()\n",
    "    print(f\"ollama: {resp_llama}\")\n",
    "    ollama_messages.append(resp_llama)"
   ]
  },
  {
   "cell_type": "code",
   "execution_count": 47,
   "id": "f9af024c-c933-4065-a8d4-43d9279bdb9f",
   "metadata": {},
   "outputs": [
    {
     "name": "stdout",
     "output_type": "stream",
     "text": [
      "0.42.0\n"
     ]
    }
   ],
   "source": []
  },
  {
   "cell_type": "code",
   "execution_count": null,
   "id": "5b8d96c8-f7b2-4627-9514-1739057f9245",
   "metadata": {},
   "outputs": [],
   "source": []
  }
 ],
 "metadata": {
  "kernelspec": {
   "display_name": "Python 3 (ipykernel)",
   "language": "python",
   "name": "python3"
  },
  "language_info": {
   "codemirror_mode": {
    "name": "ipython",
    "version": 3
   },
   "file_extension": ".py",
   "mimetype": "text/x-python",
   "name": "python",
   "nbconvert_exporter": "python",
   "pygments_lexer": "ipython3",
   "version": "3.10.7"
  }
 },
 "nbformat": 4,
 "nbformat_minor": 5
}
